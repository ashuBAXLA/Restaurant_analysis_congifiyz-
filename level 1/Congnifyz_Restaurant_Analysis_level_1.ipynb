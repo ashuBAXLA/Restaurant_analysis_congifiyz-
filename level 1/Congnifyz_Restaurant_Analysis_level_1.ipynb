{
  "nbformat": 4,
  "nbformat_minor": 0,
  "metadata": {
    "colab": {
      "provenance": []
    },
    "kernelspec": {
      "name": "python3",
      "display_name": "Python 3"
    },
    "language_info": {
      "name": "python"
    }
  },
  "cells": [
    {
      "cell_type": "markdown",
      "source": [
        "#Restaurant Data Analysis - Level 1\n",
        "###Project Type: Data Analysis\n",
        "###Industry: Cognifyz Technologies\n",
        "###Contribution: Individual\n",
        "####Level: 1\n",
        "###Project Summary\n",
        "This project is part of my internship at Cognifyz, where I analyzed restaurant data to find useful insights. The dataset includes information like restaurant names, cities, ratings, price ranges, and delivery options. This Level 1 project covers basic data analysis tasks that help understand restaurant trends.\n",
        "\n",
        "##Level 1 Tasks Overview:\n",
        "\n",
        "###Task 1: Data Exploration and Preprocessing\n",
        "\n",
        "* Explored dataset structure, observing dimensions and column types.\n",
        "\n",
        "* Handled missing values to maintain data accuracy.\n",
        "\n",
        "* Performed necessary data type conversions.\n",
        "\n",
        "* Analyzed the distribution of key variables, including \"Aggregate rating,\" addressing potential class imbalances.\n",
        "\n",
        "###Task 2: Descriptive Analysis\n",
        "\n",
        "* Calculated statistical metrics (mean, median, standard deviation) for numerical features.\n",
        "\n",
        "* Examined categorical distributions like \"Country Code,\" \"City,\" and \"Cuisines.\"\n",
        "\n",
        "* Identified top cuisines and cities with the highest concentration of restaurants.\n",
        "\n",
        "###Task 3: Geospatial Analysis\n",
        "\n",
        "* Visualized restaurant locations based on latitude and longitude coordinates.\n",
        "\n",
        "* Analyzed city-wise and country-wise restaurant distribution.\n",
        "\n",
        "* Explored correlations between location and ratings, providing spatial insights into customer preferences.\n",
        "\n",
        "##Problem Statement\n",
        "####Level 1 tasks include analyzing the top three cuisines in the dataset, identifying cities with the most restaurants and their ratings, visualizing restaurant price range distributions, and evaluating online delivery options and their impact on ratings. These insights will enhance understanding of restaurant trends and customer preferences.\n",
        "\n",
        "\n",
        "\n",
        "###Key Tasks of Level 1\n",
        "####Task 1: Top Cuisines\n",
        "\n",
        "•\tDetermine the top three most common cuisines in the dataset.\n",
        "\n",
        "•\tCalculate the percentage of restaurants serving each of the top cuisines.\n",
        "\n",
        "\n",
        "####Task 2: City Analysis\n",
        "•\tIdentify the city with the highest number of restaurants in the dataset.\n",
        "\n",
        "•\tCalculate the average rating for restaurants in each city.\n",
        "\n",
        "•\tDetermine the city with the highest average rating.\n",
        "\n",
        "\n",
        "####Task 3: Price Range Distribution\n",
        "\n",
        "•\tVisualize the distribution of restaurant price ranges using a histogram or bar chart.\n",
        "\n",
        "•\tCalculate the percentage of restaurants in each price range category.\n",
        "\n",
        "\n",
        "####Task 4: Online Delivery\n",
        "\n",
        "•\tCalculate the percentage of restaurants that offer online delivery.\n",
        "\n",
        "•\tCompare the average ratings between restaurants with and without online delivery.\n"
      ],
      "metadata": {
        "id": "dSwa-3djxIRH"
      }
    },
    {
      "cell_type": "markdown",
      "source": [
        "###TASK 1 : Data Exploration and Preprocessing"
      ],
      "metadata": {
        "id": "W6g_dJOMzYEi"
      }
    },
    {
      "cell_type": "markdown",
      "source": [
        "IMPORT THE LIBRARIES"
      ],
      "metadata": {
        "id": "aoMAeIGUzQcL"
      }
    },
    {
      "cell_type": "code",
      "source": [
        "import pandas as pd\n",
        "import numpy as np\n",
        "import matplotlib.pyplot as plt\n",
        "import seaborn as sns\n",
        "\n",
        " # Ignore all warnings\n",
        "import warnings\n",
        "\n",
        "warnings.filterwarnings('ignore')"
      ],
      "metadata": {
        "id": "pNSWJPkRzQQD"
      },
      "execution_count": 2,
      "outputs": []
    },
    {
      "cell_type": "code",
      "source": [
        "df = pd.read_csv('https://raw.githubusercontent.com/ashuBAXLA/Restaurant_analysis_congifiyz-/69f2345c48e79480a76a3b677a8cc9808204b1d6/Dataset%20.csv', delimiter=',', encoding='utf-8')\n"
      ],
      "metadata": {
        "id": "unXZ0O7idyHl"
      },
      "execution_count": 3,
      "outputs": []
    },
    {
      "cell_type": "code",
      "source": [
        "df.head(5)"
      ],
      "metadata": {
        "colab": {
          "base_uri": "https://localhost:8080/",
          "height": 652
        },
        "id": "dL1nA_uacqVD",
        "outputId": "cc67c627-dac2-4505-fa69-11a757c6752c"
      },
      "execution_count": 4,
      "outputs": [
        {
          "output_type": "execute_result",
          "data": {
            "text/plain": [
              "   Restaurant ID         Restaurant Name  Country Code              City  \\\n",
              "0        6317637        Le Petit Souffle           162       Makati City   \n",
              "1        6304287        Izakaya Kikufuji           162       Makati City   \n",
              "2        6300002  Heat - Edsa Shangri-La           162  Mandaluyong City   \n",
              "3        6318506                    Ooma           162  Mandaluyong City   \n",
              "4        6314302             Sambo Kojin           162  Mandaluyong City   \n",
              "\n",
              "                                             Address  \\\n",
              "0  Third Floor, Century City Mall, Kalayaan Avenu...   \n",
              "1  Little Tokyo, 2277 Chino Roces Avenue, Legaspi...   \n",
              "2  Edsa Shangri-La, 1 Garden Way, Ortigas, Mandal...   \n",
              "3  Third Floor, Mega Fashion Hall, SM Megamall, O...   \n",
              "4  Third Floor, Mega Atrium, SM Megamall, Ortigas...   \n",
              "\n",
              "                                     Locality  \\\n",
              "0   Century City Mall, Poblacion, Makati City   \n",
              "1  Little Tokyo, Legaspi Village, Makati City   \n",
              "2  Edsa Shangri-La, Ortigas, Mandaluyong City   \n",
              "3      SM Megamall, Ortigas, Mandaluyong City   \n",
              "4      SM Megamall, Ortigas, Mandaluyong City   \n",
              "\n",
              "                                    Locality Verbose   Longitude   Latitude  \\\n",
              "0  Century City Mall, Poblacion, Makati City, Mak...  121.027535  14.565443   \n",
              "1  Little Tokyo, Legaspi Village, Makati City, Ma...  121.014101  14.553708   \n",
              "2  Edsa Shangri-La, Ortigas, Mandaluyong City, Ma...  121.056831  14.581404   \n",
              "3  SM Megamall, Ortigas, Mandaluyong City, Mandal...  121.056475  14.585318   \n",
              "4  SM Megamall, Ortigas, Mandaluyong City, Mandal...  121.057508  14.584450   \n",
              "\n",
              "                           Cuisines  ...          Currency Has Table booking  \\\n",
              "0        French, Japanese, Desserts  ...  Botswana Pula(P)               Yes   \n",
              "1                          Japanese  ...  Botswana Pula(P)               Yes   \n",
              "2  Seafood, Asian, Filipino, Indian  ...  Botswana Pula(P)               Yes   \n",
              "3                   Japanese, Sushi  ...  Botswana Pula(P)                No   \n",
              "4                  Japanese, Korean  ...  Botswana Pula(P)               Yes   \n",
              "\n",
              "  Has Online delivery Is delivering now Switch to order menu Price range  \\\n",
              "0                  No                No                   No           3   \n",
              "1                  No                No                   No           3   \n",
              "2                  No                No                   No           4   \n",
              "3                  No                No                   No           4   \n",
              "4                  No                No                   No           4   \n",
              "\n",
              "   Aggregate rating  Rating color Rating text Votes  \n",
              "0               4.8    Dark Green   Excellent   314  \n",
              "1               4.5    Dark Green   Excellent   591  \n",
              "2               4.4         Green   Very Good   270  \n",
              "3               4.9    Dark Green   Excellent   365  \n",
              "4               4.8    Dark Green   Excellent   229  \n",
              "\n",
              "[5 rows x 21 columns]"
            ],
            "text/html": [
              "\n",
              "  <div id=\"df-66bb232a-1f39-409a-8056-23fc7639d15a\" class=\"colab-df-container\">\n",
              "    <div>\n",
              "<style scoped>\n",
              "    .dataframe tbody tr th:only-of-type {\n",
              "        vertical-align: middle;\n",
              "    }\n",
              "\n",
              "    .dataframe tbody tr th {\n",
              "        vertical-align: top;\n",
              "    }\n",
              "\n",
              "    .dataframe thead th {\n",
              "        text-align: right;\n",
              "    }\n",
              "</style>\n",
              "<table border=\"1\" class=\"dataframe\">\n",
              "  <thead>\n",
              "    <tr style=\"text-align: right;\">\n",
              "      <th></th>\n",
              "      <th>Restaurant ID</th>\n",
              "      <th>Restaurant Name</th>\n",
              "      <th>Country Code</th>\n",
              "      <th>City</th>\n",
              "      <th>Address</th>\n",
              "      <th>Locality</th>\n",
              "      <th>Locality Verbose</th>\n",
              "      <th>Longitude</th>\n",
              "      <th>Latitude</th>\n",
              "      <th>Cuisines</th>\n",
              "      <th>...</th>\n",
              "      <th>Currency</th>\n",
              "      <th>Has Table booking</th>\n",
              "      <th>Has Online delivery</th>\n",
              "      <th>Is delivering now</th>\n",
              "      <th>Switch to order menu</th>\n",
              "      <th>Price range</th>\n",
              "      <th>Aggregate rating</th>\n",
              "      <th>Rating color</th>\n",
              "      <th>Rating text</th>\n",
              "      <th>Votes</th>\n",
              "    </tr>\n",
              "  </thead>\n",
              "  <tbody>\n",
              "    <tr>\n",
              "      <th>0</th>\n",
              "      <td>6317637</td>\n",
              "      <td>Le Petit Souffle</td>\n",
              "      <td>162</td>\n",
              "      <td>Makati City</td>\n",
              "      <td>Third Floor, Century City Mall, Kalayaan Avenu...</td>\n",
              "      <td>Century City Mall, Poblacion, Makati City</td>\n",
              "      <td>Century City Mall, Poblacion, Makati City, Mak...</td>\n",
              "      <td>121.027535</td>\n",
              "      <td>14.565443</td>\n",
              "      <td>French, Japanese, Desserts</td>\n",
              "      <td>...</td>\n",
              "      <td>Botswana Pula(P)</td>\n",
              "      <td>Yes</td>\n",
              "      <td>No</td>\n",
              "      <td>No</td>\n",
              "      <td>No</td>\n",
              "      <td>3</td>\n",
              "      <td>4.8</td>\n",
              "      <td>Dark Green</td>\n",
              "      <td>Excellent</td>\n",
              "      <td>314</td>\n",
              "    </tr>\n",
              "    <tr>\n",
              "      <th>1</th>\n",
              "      <td>6304287</td>\n",
              "      <td>Izakaya Kikufuji</td>\n",
              "      <td>162</td>\n",
              "      <td>Makati City</td>\n",
              "      <td>Little Tokyo, 2277 Chino Roces Avenue, Legaspi...</td>\n",
              "      <td>Little Tokyo, Legaspi Village, Makati City</td>\n",
              "      <td>Little Tokyo, Legaspi Village, Makati City, Ma...</td>\n",
              "      <td>121.014101</td>\n",
              "      <td>14.553708</td>\n",
              "      <td>Japanese</td>\n",
              "      <td>...</td>\n",
              "      <td>Botswana Pula(P)</td>\n",
              "      <td>Yes</td>\n",
              "      <td>No</td>\n",
              "      <td>No</td>\n",
              "      <td>No</td>\n",
              "      <td>3</td>\n",
              "      <td>4.5</td>\n",
              "      <td>Dark Green</td>\n",
              "      <td>Excellent</td>\n",
              "      <td>591</td>\n",
              "    </tr>\n",
              "    <tr>\n",
              "      <th>2</th>\n",
              "      <td>6300002</td>\n",
              "      <td>Heat - Edsa Shangri-La</td>\n",
              "      <td>162</td>\n",
              "      <td>Mandaluyong City</td>\n",
              "      <td>Edsa Shangri-La, 1 Garden Way, Ortigas, Mandal...</td>\n",
              "      <td>Edsa Shangri-La, Ortigas, Mandaluyong City</td>\n",
              "      <td>Edsa Shangri-La, Ortigas, Mandaluyong City, Ma...</td>\n",
              "      <td>121.056831</td>\n",
              "      <td>14.581404</td>\n",
              "      <td>Seafood, Asian, Filipino, Indian</td>\n",
              "      <td>...</td>\n",
              "      <td>Botswana Pula(P)</td>\n",
              "      <td>Yes</td>\n",
              "      <td>No</td>\n",
              "      <td>No</td>\n",
              "      <td>No</td>\n",
              "      <td>4</td>\n",
              "      <td>4.4</td>\n",
              "      <td>Green</td>\n",
              "      <td>Very Good</td>\n",
              "      <td>270</td>\n",
              "    </tr>\n",
              "    <tr>\n",
              "      <th>3</th>\n",
              "      <td>6318506</td>\n",
              "      <td>Ooma</td>\n",
              "      <td>162</td>\n",
              "      <td>Mandaluyong City</td>\n",
              "      <td>Third Floor, Mega Fashion Hall, SM Megamall, O...</td>\n",
              "      <td>SM Megamall, Ortigas, Mandaluyong City</td>\n",
              "      <td>SM Megamall, Ortigas, Mandaluyong City, Mandal...</td>\n",
              "      <td>121.056475</td>\n",
              "      <td>14.585318</td>\n",
              "      <td>Japanese, Sushi</td>\n",
              "      <td>...</td>\n",
              "      <td>Botswana Pula(P)</td>\n",
              "      <td>No</td>\n",
              "      <td>No</td>\n",
              "      <td>No</td>\n",
              "      <td>No</td>\n",
              "      <td>4</td>\n",
              "      <td>4.9</td>\n",
              "      <td>Dark Green</td>\n",
              "      <td>Excellent</td>\n",
              "      <td>365</td>\n",
              "    </tr>\n",
              "    <tr>\n",
              "      <th>4</th>\n",
              "      <td>6314302</td>\n",
              "      <td>Sambo Kojin</td>\n",
              "      <td>162</td>\n",
              "      <td>Mandaluyong City</td>\n",
              "      <td>Third Floor, Mega Atrium, SM Megamall, Ortigas...</td>\n",
              "      <td>SM Megamall, Ortigas, Mandaluyong City</td>\n",
              "      <td>SM Megamall, Ortigas, Mandaluyong City, Mandal...</td>\n",
              "      <td>121.057508</td>\n",
              "      <td>14.584450</td>\n",
              "      <td>Japanese, Korean</td>\n",
              "      <td>...</td>\n",
              "      <td>Botswana Pula(P)</td>\n",
              "      <td>Yes</td>\n",
              "      <td>No</td>\n",
              "      <td>No</td>\n",
              "      <td>No</td>\n",
              "      <td>4</td>\n",
              "      <td>4.8</td>\n",
              "      <td>Dark Green</td>\n",
              "      <td>Excellent</td>\n",
              "      <td>229</td>\n",
              "    </tr>\n",
              "  </tbody>\n",
              "</table>\n",
              "<p>5 rows × 21 columns</p>\n",
              "</div>\n",
              "    <div class=\"colab-df-buttons\">\n",
              "\n",
              "  <div class=\"colab-df-container\">\n",
              "    <button class=\"colab-df-convert\" onclick=\"convertToInteractive('df-66bb232a-1f39-409a-8056-23fc7639d15a')\"\n",
              "            title=\"Convert this dataframe to an interactive table.\"\n",
              "            style=\"display:none;\">\n",
              "\n",
              "  <svg xmlns=\"http://www.w3.org/2000/svg\" height=\"24px\" viewBox=\"0 -960 960 960\">\n",
              "    <path d=\"M120-120v-720h720v720H120Zm60-500h600v-160H180v160Zm220 220h160v-160H400v160Zm0 220h160v-160H400v160ZM180-400h160v-160H180v160Zm440 0h160v-160H620v160ZM180-180h160v-160H180v160Zm440 0h160v-160H620v160Z\"/>\n",
              "  </svg>\n",
              "    </button>\n",
              "\n",
              "  <style>\n",
              "    .colab-df-container {\n",
              "      display:flex;\n",
              "      gap: 12px;\n",
              "    }\n",
              "\n",
              "    .colab-df-convert {\n",
              "      background-color: #E8F0FE;\n",
              "      border: none;\n",
              "      border-radius: 50%;\n",
              "      cursor: pointer;\n",
              "      display: none;\n",
              "      fill: #1967D2;\n",
              "      height: 32px;\n",
              "      padding: 0 0 0 0;\n",
              "      width: 32px;\n",
              "    }\n",
              "\n",
              "    .colab-df-convert:hover {\n",
              "      background-color: #E2EBFA;\n",
              "      box-shadow: 0px 1px 2px rgba(60, 64, 67, 0.3), 0px 1px 3px 1px rgba(60, 64, 67, 0.15);\n",
              "      fill: #174EA6;\n",
              "    }\n",
              "\n",
              "    .colab-df-buttons div {\n",
              "      margin-bottom: 4px;\n",
              "    }\n",
              "\n",
              "    [theme=dark] .colab-df-convert {\n",
              "      background-color: #3B4455;\n",
              "      fill: #D2E3FC;\n",
              "    }\n",
              "\n",
              "    [theme=dark] .colab-df-convert:hover {\n",
              "      background-color: #434B5C;\n",
              "      box-shadow: 0px 1px 3px 1px rgba(0, 0, 0, 0.15);\n",
              "      filter: drop-shadow(0px 1px 2px rgba(0, 0, 0, 0.3));\n",
              "      fill: #FFFFFF;\n",
              "    }\n",
              "  </style>\n",
              "\n",
              "    <script>\n",
              "      const buttonEl =\n",
              "        document.querySelector('#df-66bb232a-1f39-409a-8056-23fc7639d15a button.colab-df-convert');\n",
              "      buttonEl.style.display =\n",
              "        google.colab.kernel.accessAllowed ? 'block' : 'none';\n",
              "\n",
              "      async function convertToInteractive(key) {\n",
              "        const element = document.querySelector('#df-66bb232a-1f39-409a-8056-23fc7639d15a');\n",
              "        const dataTable =\n",
              "          await google.colab.kernel.invokeFunction('convertToInteractive',\n",
              "                                                    [key], {});\n",
              "        if (!dataTable) return;\n",
              "\n",
              "        const docLinkHtml = 'Like what you see? Visit the ' +\n",
              "          '<a target=\"_blank\" href=https://colab.research.google.com/notebooks/data_table.ipynb>data table notebook</a>'\n",
              "          + ' to learn more about interactive tables.';\n",
              "        element.innerHTML = '';\n",
              "        dataTable['output_type'] = 'display_data';\n",
              "        await google.colab.output.renderOutput(dataTable, element);\n",
              "        const docLink = document.createElement('div');\n",
              "        docLink.innerHTML = docLinkHtml;\n",
              "        element.appendChild(docLink);\n",
              "      }\n",
              "    </script>\n",
              "  </div>\n",
              "\n",
              "\n",
              "<div id=\"df-e81f60c7-97bd-4246-9116-85bd6b034a68\">\n",
              "  <button class=\"colab-df-quickchart\" onclick=\"quickchart('df-e81f60c7-97bd-4246-9116-85bd6b034a68')\"\n",
              "            title=\"Suggest charts\"\n",
              "            style=\"display:none;\">\n",
              "\n",
              "<svg xmlns=\"http://www.w3.org/2000/svg\" height=\"24px\"viewBox=\"0 0 24 24\"\n",
              "     width=\"24px\">\n",
              "    <g>\n",
              "        <path d=\"M19 3H5c-1.1 0-2 .9-2 2v14c0 1.1.9 2 2 2h14c1.1 0 2-.9 2-2V5c0-1.1-.9-2-2-2zM9 17H7v-7h2v7zm4 0h-2V7h2v10zm4 0h-2v-4h2v4z\"/>\n",
              "    </g>\n",
              "</svg>\n",
              "  </button>\n",
              "\n",
              "<style>\n",
              "  .colab-df-quickchart {\n",
              "      --bg-color: #E8F0FE;\n",
              "      --fill-color: #1967D2;\n",
              "      --hover-bg-color: #E2EBFA;\n",
              "      --hover-fill-color: #174EA6;\n",
              "      --disabled-fill-color: #AAA;\n",
              "      --disabled-bg-color: #DDD;\n",
              "  }\n",
              "\n",
              "  [theme=dark] .colab-df-quickchart {\n",
              "      --bg-color: #3B4455;\n",
              "      --fill-color: #D2E3FC;\n",
              "      --hover-bg-color: #434B5C;\n",
              "      --hover-fill-color: #FFFFFF;\n",
              "      --disabled-bg-color: #3B4455;\n",
              "      --disabled-fill-color: #666;\n",
              "  }\n",
              "\n",
              "  .colab-df-quickchart {\n",
              "    background-color: var(--bg-color);\n",
              "    border: none;\n",
              "    border-radius: 50%;\n",
              "    cursor: pointer;\n",
              "    display: none;\n",
              "    fill: var(--fill-color);\n",
              "    height: 32px;\n",
              "    padding: 0;\n",
              "    width: 32px;\n",
              "  }\n",
              "\n",
              "  .colab-df-quickchart:hover {\n",
              "    background-color: var(--hover-bg-color);\n",
              "    box-shadow: 0 1px 2px rgba(60, 64, 67, 0.3), 0 1px 3px 1px rgba(60, 64, 67, 0.15);\n",
              "    fill: var(--button-hover-fill-color);\n",
              "  }\n",
              "\n",
              "  .colab-df-quickchart-complete:disabled,\n",
              "  .colab-df-quickchart-complete:disabled:hover {\n",
              "    background-color: var(--disabled-bg-color);\n",
              "    fill: var(--disabled-fill-color);\n",
              "    box-shadow: none;\n",
              "  }\n",
              "\n",
              "  .colab-df-spinner {\n",
              "    border: 2px solid var(--fill-color);\n",
              "    border-color: transparent;\n",
              "    border-bottom-color: var(--fill-color);\n",
              "    animation:\n",
              "      spin 1s steps(1) infinite;\n",
              "  }\n",
              "\n",
              "  @keyframes spin {\n",
              "    0% {\n",
              "      border-color: transparent;\n",
              "      border-bottom-color: var(--fill-color);\n",
              "      border-left-color: var(--fill-color);\n",
              "    }\n",
              "    20% {\n",
              "      border-color: transparent;\n",
              "      border-left-color: var(--fill-color);\n",
              "      border-top-color: var(--fill-color);\n",
              "    }\n",
              "    30% {\n",
              "      border-color: transparent;\n",
              "      border-left-color: var(--fill-color);\n",
              "      border-top-color: var(--fill-color);\n",
              "      border-right-color: var(--fill-color);\n",
              "    }\n",
              "    40% {\n",
              "      border-color: transparent;\n",
              "      border-right-color: var(--fill-color);\n",
              "      border-top-color: var(--fill-color);\n",
              "    }\n",
              "    60% {\n",
              "      border-color: transparent;\n",
              "      border-right-color: var(--fill-color);\n",
              "    }\n",
              "    80% {\n",
              "      border-color: transparent;\n",
              "      border-right-color: var(--fill-color);\n",
              "      border-bottom-color: var(--fill-color);\n",
              "    }\n",
              "    90% {\n",
              "      border-color: transparent;\n",
              "      border-bottom-color: var(--fill-color);\n",
              "    }\n",
              "  }\n",
              "</style>\n",
              "\n",
              "  <script>\n",
              "    async function quickchart(key) {\n",
              "      const quickchartButtonEl =\n",
              "        document.querySelector('#' + key + ' button');\n",
              "      quickchartButtonEl.disabled = true;  // To prevent multiple clicks.\n",
              "      quickchartButtonEl.classList.add('colab-df-spinner');\n",
              "      try {\n",
              "        const charts = await google.colab.kernel.invokeFunction(\n",
              "            'suggestCharts', [key], {});\n",
              "      } catch (error) {\n",
              "        console.error('Error during call to suggestCharts:', error);\n",
              "      }\n",
              "      quickchartButtonEl.classList.remove('colab-df-spinner');\n",
              "      quickchartButtonEl.classList.add('colab-df-quickchart-complete');\n",
              "    }\n",
              "    (() => {\n",
              "      let quickchartButtonEl =\n",
              "        document.querySelector('#df-e81f60c7-97bd-4246-9116-85bd6b034a68 button');\n",
              "      quickchartButtonEl.style.display =\n",
              "        google.colab.kernel.accessAllowed ? 'block' : 'none';\n",
              "    })();\n",
              "  </script>\n",
              "</div>\n",
              "\n",
              "    </div>\n",
              "  </div>\n"
            ],
            "application/vnd.google.colaboratory.intrinsic+json": {
              "type": "dataframe",
              "variable_name": "df"
            }
          },
          "metadata": {},
          "execution_count": 4
        }
      ]
    },
    {
      "cell_type": "code",
      "source": [
        "df.info()"
      ],
      "metadata": {
        "colab": {
          "base_uri": "https://localhost:8080/"
        },
        "id": "UbZEEuiScyxU",
        "outputId": "f4d2bded-5edd-4980-88cf-be326eee0a15"
      },
      "execution_count": 5,
      "outputs": [
        {
          "output_type": "stream",
          "name": "stdout",
          "text": [
            "<class 'pandas.core.frame.DataFrame'>\n",
            "RangeIndex: 9551 entries, 0 to 9550\n",
            "Data columns (total 21 columns):\n",
            " #   Column                Non-Null Count  Dtype  \n",
            "---  ------                --------------  -----  \n",
            " 0   Restaurant ID         9551 non-null   int64  \n",
            " 1   Restaurant Name       9551 non-null   object \n",
            " 2   Country Code          9551 non-null   int64  \n",
            " 3   City                  9551 non-null   object \n",
            " 4   Address               9551 non-null   object \n",
            " 5   Locality              9551 non-null   object \n",
            " 6   Locality Verbose      9551 non-null   object \n",
            " 7   Longitude             9551 non-null   float64\n",
            " 8   Latitude              9551 non-null   float64\n",
            " 9   Cuisines              9542 non-null   object \n",
            " 10  Average Cost for two  9551 non-null   int64  \n",
            " 11  Currency              9551 non-null   object \n",
            " 12  Has Table booking     9551 non-null   object \n",
            " 13  Has Online delivery   9551 non-null   object \n",
            " 14  Is delivering now     9551 non-null   object \n",
            " 15  Switch to order menu  9551 non-null   object \n",
            " 16  Price range           9551 non-null   int64  \n",
            " 17  Aggregate rating      9551 non-null   float64\n",
            " 18  Rating color          9551 non-null   object \n",
            " 19  Rating text           9551 non-null   object \n",
            " 20  Votes                 9551 non-null   int64  \n",
            "dtypes: float64(3), int64(5), object(13)\n",
            "memory usage: 1.5+ MB\n"
          ]
        }
      ]
    },
    {
      "cell_type": "markdown",
      "source": [
        "###Missing Vaules or Null values"
      ],
      "metadata": {
        "id": "2Z4jhu26iQ2g"
      }
    },
    {
      "cell_type": "code",
      "source": [
        "missing_values =df.isnull().sum()\n",
        "print(missing_values)"
      ],
      "metadata": {
        "colab": {
          "base_uri": "https://localhost:8080/"
        },
        "id": "pqNEvvIoeF6A",
        "outputId": "60e42774-e0f0-42d4-ffe2-fe50a1d4f2e8"
      },
      "execution_count": 6,
      "outputs": [
        {
          "output_type": "stream",
          "name": "stdout",
          "text": [
            "Restaurant ID           0\n",
            "Restaurant Name         0\n",
            "Country Code            0\n",
            "City                    0\n",
            "Address                 0\n",
            "Locality                0\n",
            "Locality Verbose        0\n",
            "Longitude               0\n",
            "Latitude                0\n",
            "Cuisines                9\n",
            "Average Cost for two    0\n",
            "Currency                0\n",
            "Has Table booking       0\n",
            "Has Online delivery     0\n",
            "Is delivering now       0\n",
            "Switch to order menu    0\n",
            "Price range             0\n",
            "Aggregate rating        0\n",
            "Rating color            0\n",
            "Rating text             0\n",
            "Votes                   0\n",
            "dtype: int64\n"
          ]
        }
      ]
    },
    {
      "cell_type": "code",
      "source": [
        "# Visualizing the missing values\n",
        "# Checking Null Value by Plotting Heatmap\n",
        "\n",
        "# Set the plot size\n",
        "plt.figure(figsize = (10,6))\n",
        "\n",
        "# Create the figure object\n",
        "sns.heatmap(df.isnull().corr(), vmin=-1, annot= True)\n",
        "\n",
        "# Set labels\n",
        "plt.xlabel('Name of columns', fontsize=11)\n",
        "plt.ylabel('Name of columns', fontsize=10)\n",
        "plt.title('Places of missing values in Dataset', fontsize=12)\n",
        "\n",
        "# To show\n",
        "plt.show()"
      ],
      "metadata": {
        "colab": {
          "base_uri": "https://localhost:8080/",
          "height": 701
        },
        "id": "jtyhIyVav40U",
        "outputId": "ca8278a6-fd2f-456d-c3a2-37b4b7deab5e"
      },
      "execution_count": 7,
      "outputs": [
        {
          "output_type": "display_data",
          "data": {
            "text/plain": [
              "<Figure size 1000x600 with 2 Axes>"
            ],
            "image/png": "[encoded data removed]"
          },
          "metadata": {}
        }
      ]
    },
    {
      "cell_type": "code",
      "source": [
        "\n",
        "# Check if there are any missing values\n",
        "if missing_values[missing_values > 0].any():\n",
        "    plt.figure(figsize=(10, 5))\n",
        "    missing_values[missing_values > 0].plot(kind='bar')\n",
        "    plt.title('Count of Missing Values per Column')\n",
        "    plt.xlabel('Columns')\n",
        "    plt.ylabel('Count of Missing Values')\n",
        "    plt.xticks(rotation=45)\n",
        "    plt.show()\n",
        "else:\n",
        "    print(\"No missing values found in the dataset.\")"
      ],
      "metadata": {
        "colab": {
          "base_uri": "https://localhost:8080/",
          "height": 524
        },
        "id": "-Qxd8bLUwDdL",
        "outputId": "de51dc1d-8936-4e15-f917-0c2c1325180b"
      },
      "execution_count": 8,
      "outputs": [
        {
          "output_type": "display_data",
          "data": {
            "text/plain": [
              "<Figure size 1000x500 with 1 Axes>"
            ],
            "image/png": "[encoded data removed]"
          },
          "metadata": {}
        }
      ]
    },
    {
      "cell_type": "markdown",
      "source": [
        "### Drop rows with missing values in specific columns ('Cuisines')"
      ],
      "metadata": {
        "id": "eWTsyB44jauG"
      }
    },
    {
      "cell_type": "code",
      "source": [
        "df = df.dropna(subset=['Cuisines'])\n"
      ],
      "metadata": {
        "id": "96266kwNhXbS"
      },
      "execution_count": 9,
      "outputs": []
    },
    {
      "cell_type": "markdown",
      "source": [
        "###Duplicate Values"
      ],
      "metadata": {
        "id": "B5ngEfO9jjrw"
      }
    },
    {
      "cell_type": "code",
      "source": [
        "duplicated_values=df.duplicated().sum()\n",
        "print(duplicated_values)"
      ],
      "metadata": {
        "colab": {
          "base_uri": "https://localhost:8080/"
        },
        "id": "l-q0QzbAjpJj",
        "outputId": "52060293-f7a2-47e6-a7e6-58a5a25c7f60"
      },
      "execution_count": 10,
      "outputs": [
        {
          "output_type": "stream",
          "name": "stdout",
          "text": [
            "0\n"
          ]
        }
      ]
    },
    {
      "cell_type": "code",
      "source": [
        "df.info()"
      ],
      "metadata": {
        "colab": {
          "base_uri": "https://localhost:8080/"
        },
        "id": "iiN7mn9epU1z",
        "outputId": "07bd6262-b252-4d80-f257-33ed4b64ed18"
      },
      "execution_count": 11,
      "outputs": [
        {
          "output_type": "stream",
          "name": "stdout",
          "text": [
            "<class 'pandas.core.frame.DataFrame'>\n",
            "Index: 9542 entries, 0 to 9550\n",
            "Data columns (total 21 columns):\n",
            " #   Column                Non-Null Count  Dtype  \n",
            "---  ------                --------------  -----  \n",
            " 0   Restaurant ID         9542 non-null   int64  \n",
            " 1   Restaurant Name       9542 non-null   object \n",
            " 2   Country Code          9542 non-null   int64  \n",
            " 3   City                  9542 non-null   object \n",
            " 4   Address               9542 non-null   object \n",
            " 5   Locality              9542 non-null   object \n",
            " 6   Locality Verbose      9542 non-null   object \n",
            " 7   Longitude             9542 non-null   float64\n",
            " 8   Latitude              9542 non-null   float64\n",
            " 9   Cuisines              9542 non-null   object \n",
            " 10  Average Cost for two  9542 non-null   int64  \n",
            " 11  Currency              9542 non-null   object \n",
            " 12  Has Table booking     9542 non-null   object \n",
            " 13  Has Online delivery   9542 non-null   object \n",
            " 14  Is delivering now     9542 non-null   object \n",
            " 15  Switch to order menu  9542 non-null   object \n",
            " 16  Price range           9542 non-null   int64  \n",
            " 17  Aggregate rating      9542 non-null   float64\n",
            " 18  Rating color          9542 non-null   object \n",
            " 19  Rating text           9542 non-null   object \n",
            " 20  Votes                 9542 non-null   int64  \n",
            "dtypes: float64(3), int64(5), object(13)\n",
            "memory usage: 1.6+ MB\n"
          ]
        }
      ]
    },
    {
      "cell_type": "code",
      "source": [
        "result = df[(df['Latitude'] == 0) & (df['Longitude'] == 0)]\n",
        "\n",
        "# Display the addresses of such restaurants\n",
        "addresses = result[['Address','Latitude','Longitude']]\n",
        "print(addresses)"
      ],
      "metadata": {
        "colab": {
          "base_uri": "https://localhost:8080/"
        },
        "id": "WFhzNB46qi2d",
        "outputId": "249eef04-b5b9-4943-af47-e6d4e21a10d6"
      },
      "execution_count": 12,
      "outputs": [
        {
          "output_type": "stream",
          "name": "stdout",
          "text": [
            "                                                Address  Latitude  Longitude\n",
            "625   E-20, Shopping Arcade, Sadar Bazaar, Agra Cant...       0.0        0.0\n",
            "629   Courtyard by Marriott Agra, Phase 2, Fatehabad...       0.0        0.0\n",
            "632   3/20, KPS Tower, Near Tulsi Talkies, Bypass Ro...       0.0        0.0\n",
            "638   Parador Hotel, 3A-3B, Phase 1, Fatehabad Road,...       0.0        0.0\n",
            "639   1374 K/1375 K, 2nd floor, Dinesh Nagar, Fatehb...       0.0        0.0\n",
            "...                                                 ...       ...        ...\n",
            "9264   4-70-4, Opposite NCC Canteen, Lawsons Bay, Vizag       0.0        0.0\n",
            "9268  7-5-82, Sea Shore Apartments, Southern Portion...       0.0        0.0\n",
            "9272  Plot 95, Opposite St. Lukes Nursing School, Da...       0.0        0.0\n",
            "9292  Jl. Tanjung Duren Utara III, Blok M Kav. 32, T...       0.0        0.0\n",
            "9511            12 Flower Road, Kollupitiya, Colombo 03       0.0        0.0\n",
            "\n",
            "[497 rows x 3 columns]\n"
          ]
        }
      ]
    },
    {
      "cell_type": "code",
      "source": [
        "df[['Address','Locality']].value_counts()"
      ],
      "metadata": {
        "colab": {
          "base_uri": "https://localhost:8080/",
          "height": 490
        },
        "id": "LNlwrL7VqU2s",
        "outputId": "119482d9-7ec3-4331-b149-8e7eec7c4a6a"
      },
      "execution_count": 13,
      "outputs": [
        {
          "output_type": "execute_result",
          "data": {
            "text/plain": [
              "Address                                                               Locality                     \n",
              "Dilli Haat, INA, New Delhi                                            Dilli Haat, INA                  11\n",
              "Sector 41, Noida                                                      Sector 41                        11\n",
              "Greater Kailash (GK) 1, New Delhi                                     Greater Kailash (GK) 1           10\n",
              "The Imperial, Janpath, New Delhi                                      The Imperial, Janpath             9\n",
              "Palate of Delhi, Dhaula Kuan Metro Station, Chanakyapuri, New Delhi   Palate of Delhi, Chanakyapuri     8\n",
              "                                                                                                       ..\n",
              "8A, AD Complex, Mount Road, Mohan Nagar, Nagpur                       Mohan Nagar                       1\n",
              "899, Chandiwaali Galli, Main Bazar, Paharganj, New Delhi              Paharganj                         1\n",
              "898, Jama Masjid, New Delhi                                           Jama Masjid                       1\n",
              "893/8 Mehta Tailor Wali Gali Sarai Mehrauli, Mehrauli, New Delhi      Mehrauli                          1\n",
              "��mitk�_y Mahallesi, 2432. Cadde (8. Cadde), No 113, �ankaya, Ankara  ��mitk�_y                         1\n",
              "Name: count, Length: 8927, dtype: int64"
            ],
            "text/html": [
              "<div>\n",
              "<style scoped>\n",
              "    .dataframe tbody tr th:only-of-type {\n",
              "        vertical-align: middle;\n",
              "    }\n",
              "\n",
              "    .dataframe tbody tr th {\n",
              "        vertical-align: top;\n",
              "    }\n",
              "\n",
              "    .dataframe thead th {\n",
              "        text-align: right;\n",
              "    }\n",
              "</style>\n",
              "<table border=\"1\" class=\"dataframe\">\n",
              "  <thead>\n",
              "    <tr style=\"text-align: right;\">\n",
              "      <th></th>\n",
              "      <th></th>\n",
              "      <th>count</th>\n",
              "    </tr>\n",
              "    <tr>\n",
              "      <th>Address</th>\n",
              "      <th>Locality</th>\n",
              "      <th></th>\n",
              "    </tr>\n",
              "  </thead>\n",
              "  <tbody>\n",
              "    <tr>\n",
              "      <th>Dilli Haat, INA, New Delhi</th>\n",
              "      <th>Dilli Haat, INA</th>\n",
              "      <td>11</td>\n",
              "    </tr>\n",
              "    <tr>\n",
              "      <th>Sector 41, Noida</th>\n",
              "      <th>Sector 41</th>\n",
              "      <td>11</td>\n",
              "    </tr>\n",
              "    <tr>\n",
              "      <th>Greater Kailash (GK) 1, New Delhi</th>\n",
              "      <th>Greater Kailash (GK) 1</th>\n",
              "      <td>10</td>\n",
              "    </tr>\n",
              "    <tr>\n",
              "      <th>The Imperial, Janpath, New Delhi</th>\n",
              "      <th>The Imperial, Janpath</th>\n",
              "      <td>9</td>\n",
              "    </tr>\n",
              "    <tr>\n",
              "      <th>Palate of Delhi, Dhaula Kuan Metro Station, Chanakyapuri, New Delhi</th>\n",
              "      <th>Palate of Delhi, Chanakyapuri</th>\n",
              "      <td>8</td>\n",
              "    </tr>\n",
              "    <tr>\n",
              "      <th>...</th>\n",
              "      <th>...</th>\n",
              "      <td>...</td>\n",
              "    </tr>\n",
              "    <tr>\n",
              "      <th>8A, AD Complex, Mount Road, Mohan Nagar, Nagpur</th>\n",
              "      <th>Mohan Nagar</th>\n",
              "      <td>1</td>\n",
              "    </tr>\n",
              "    <tr>\n",
              "      <th>899, Chandiwaali Galli, Main Bazar, Paharganj, New Delhi</th>\n",
              "      <th>Paharganj</th>\n",
              "      <td>1</td>\n",
              "    </tr>\n",
              "    <tr>\n",
              "      <th>898, Jama Masjid, New Delhi</th>\n",
              "      <th>Jama Masjid</th>\n",
              "      <td>1</td>\n",
              "    </tr>\n",
              "    <tr>\n",
              "      <th>893/8 Mehta Tailor Wali Gali Sarai Mehrauli, Mehrauli, New Delhi</th>\n",
              "      <th>Mehrauli</th>\n",
              "      <td>1</td>\n",
              "    </tr>\n",
              "    <tr>\n",
              "      <th>��mitk�_y Mahallesi, 2432. Cadde (8. Cadde), No 113, �ankaya, Ankara</th>\n",
              "      <th>��mitk�_y</th>\n",
              "      <td>1</td>\n",
              "    </tr>\n",
              "  </tbody>\n",
              "</table>\n",
              "<p>8927 rows × 1 columns</p>\n",
              "</div><br><label><b>dtype:</b> int64</label>"
            ]
          },
          "metadata": {},
          "execution_count": 13
        }
      ]
    },
    {
      "cell_type": "code",
      "source": [
        "df[['Latitude','Longitude']].value_counts()\n"
      ],
      "metadata": {
        "colab": {
          "base_uri": "https://localhost:8080/",
          "height": 490
        },
        "id": "YWkDF_xZpc30",
        "outputId": "99d84fe7-fd14-46d1-ec2f-231ea1ba2103"
      },
      "execution_count": 14,
      "outputs": [
        {
          "output_type": "execute_result",
          "data": {
            "text/plain": [
              "Latitude   Longitude \n",
              "0.000000    0.000000     497\n",
              "28.574309   77.353663     16\n",
              "28.551456   77.251426      9\n",
              "28.574300   77.353574      9\n",
              "28.597103   77.364833      8\n",
              "                        ... \n",
              "28.541450   77.203929      1\n",
              "28.541448   77.154938      1\n",
              "28.541431   77.255439      1\n",
              "28.541423   77.248180      1\n",
              "55.976980  -3.172778       1\n",
              "Name: count, Length: 8696, dtype: int64"
            ],
            "text/html": [
              "<div>\n",
              "<style scoped>\n",
              "    .dataframe tbody tr th:only-of-type {\n",
              "        vertical-align: middle;\n",
              "    }\n",
              "\n",
              "    .dataframe tbody tr th {\n",
              "        vertical-align: top;\n",
              "    }\n",
              "\n",
              "    .dataframe thead th {\n",
              "        text-align: right;\n",
              "    }\n",
              "</style>\n",
              "<table border=\"1\" class=\"dataframe\">\n",
              "  <thead>\n",
              "    <tr style=\"text-align: right;\">\n",
              "      <th></th>\n",
              "      <th></th>\n",
              "      <th>count</th>\n",
              "    </tr>\n",
              "    <tr>\n",
              "      <th>Latitude</th>\n",
              "      <th>Longitude</th>\n",
              "      <th></th>\n",
              "    </tr>\n",
              "  </thead>\n",
              "  <tbody>\n",
              "    <tr>\n",
              "      <th>0.000000</th>\n",
              "      <th>0.000000</th>\n",
              "      <td>497</td>\n",
              "    </tr>\n",
              "    <tr>\n",
              "      <th>28.574309</th>\n",
              "      <th>77.353663</th>\n",
              "      <td>16</td>\n",
              "    </tr>\n",
              "    <tr>\n",
              "      <th>28.551456</th>\n",
              "      <th>77.251426</th>\n",
              "      <td>9</td>\n",
              "    </tr>\n",
              "    <tr>\n",
              "      <th>28.574300</th>\n",
              "      <th>77.353574</th>\n",
              "      <td>9</td>\n",
              "    </tr>\n",
              "    <tr>\n",
              "      <th>28.597103</th>\n",
              "      <th>77.364833</th>\n",
              "      <td>8</td>\n",
              "    </tr>\n",
              "    <tr>\n",
              "      <th>...</th>\n",
              "      <th>...</th>\n",
              "      <td>...</td>\n",
              "    </tr>\n",
              "    <tr>\n",
              "      <th>28.541450</th>\n",
              "      <th>77.203929</th>\n",
              "      <td>1</td>\n",
              "    </tr>\n",
              "    <tr>\n",
              "      <th>28.541448</th>\n",
              "      <th>77.154938</th>\n",
              "      <td>1</td>\n",
              "    </tr>\n",
              "    <tr>\n",
              "      <th>28.541431</th>\n",
              "      <th>77.255439</th>\n",
              "      <td>1</td>\n",
              "    </tr>\n",
              "    <tr>\n",
              "      <th>28.541423</th>\n",
              "      <th>77.248180</th>\n",
              "      <td>1</td>\n",
              "    </tr>\n",
              "    <tr>\n",
              "      <th>55.976980</th>\n",
              "      <th>-3.172778</th>\n",
              "      <td>1</td>\n",
              "    </tr>\n",
              "  </tbody>\n",
              "</table>\n",
              "<p>8696 rows × 1 columns</p>\n",
              "</div><br><label><b>dtype:</b> int64</label>"
            ]
          },
          "metadata": {},
          "execution_count": 14
        }
      ]
    },
    {
      "cell_type": "markdown",
      "source": [
        "transfering a clean data to csv file"
      ],
      "metadata": {
        "id": "IWPOWG7ro_Xj"
      }
    },
    {
      "cell_type": "code",
      "source": [
        "cleaned_file_path = \"/content/RestaurantData\"\n",
        "df.to_csv(cleaned_file_path, index=False)\n",
        "print(f\"Cleaned data saved to {cleaned_file_path}\")"
      ],
      "metadata": {
        "colab": {
          "base_uri": "https://localhost:8080/"
        },
        "id": "_rkzVeZvochj",
        "outputId": "3a7fea1c-2e43-4bf1-f29b-693b3426faad"
      },
      "execution_count": 15,
      "outputs": [
        {
          "output_type": "stream",
          "name": "stdout",
          "text": [
            "Cleaned data saved to /content/RestaurantData\n"
          ]
        }
      ]
    },
    {
      "cell_type": "markdown",
      "source": [
        "###Analyzed the distribution of key variables, including \"Aggregate rating,\" addressing potential class imbalances."
      ],
      "metadata": {
        "id": "JHR2jX9qxR5e"
      }
    },
    {
      "cell_type": "code",
      "source": [
        "target_counts = df['Aggregate rating'].value_counts()\n",
        "print(\"Distribution of target variable:\")\n",
        "print(target_counts)"
      ],
      "metadata": {
        "colab": {
          "base_uri": "https://localhost:8080/"
        },
        "id": "0UsYJPcXxBg-",
        "outputId": "ab66234b-c83b-494f-fbcc-527089ee77be"
      },
      "execution_count": 16,
      "outputs": [
        {
          "output_type": "stream",
          "name": "stdout",
          "text": [
            "Distribution of target variable:\n",
            "Aggregate rating\n",
            "0.0    2148\n",
            "3.2     522\n",
            "3.1     519\n",
            "3.4     495\n",
            "3.3     483\n",
            "3.5     480\n",
            "3.0     468\n",
            "3.6     458\n",
            "3.7     427\n",
            "3.8     399\n",
            "2.9     381\n",
            "3.9     332\n",
            "2.8     315\n",
            "4.1     274\n",
            "4.0     266\n",
            "2.7     250\n",
            "4.2     221\n",
            "2.6     191\n",
            "4.3     174\n",
            "4.4     143\n",
            "2.5     110\n",
            "4.5      95\n",
            "2.4      87\n",
            "4.6      78\n",
            "4.9      61\n",
            "2.3      47\n",
            "4.7      41\n",
            "2.2      27\n",
            "4.8      25\n",
            "2.1      15\n",
            "2.0       7\n",
            "1.9       2\n",
            "1.8       1\n",
            "Name: count, dtype: int64\n"
          ]
        }
      ]
    },
    {
      "cell_type": "code",
      "source": [
        "# Plotting the distribution of Aggregate ratings\n",
        "plt.figure(figsize=(10, 5))\n",
        "target_counts.plot(kind='bar')\n",
        "plt.title('Distribution of Aggregate Ratings')\n",
        "plt.xlabel('Aggregate Ratings')\n",
        "plt.ylabel('Count of Restaurants')\n",
        "plt.xticks(rotation=45)\n",
        "plt.show()\n"
      ],
      "metadata": {
        "colab": {
          "base_uri": "https://localhost:8080/",
          "height": 499
        },
        "id": "1bYYRCPOx7jF",
        "outputId": "0228c0be-7aa2-4881-9884-018d9b330a5d"
      },
      "execution_count": 17,
      "outputs": [
        {
          "output_type": "display_data",
          "data": {
            "text/plain": [
              "<Figure size 1000x500 with 1 Axes>"
            ],
            "image/png": "[encoded data removed]"
          },
          "metadata": {}
        }
      ]
    },
    {
      "cell_type": "markdown",
      "source": [
        "#### *  Calculated statistical metrics (mean, median, standard deviation) for numerical features."
      ],
      "metadata": {
        "id": "PFRuDVIjyyws"
      }
    },
    {
      "cell_type": "code",
      "source": [
        "df.describe()"
      ],
      "metadata": {
        "colab": {
          "base_uri": "https://localhost:8080/",
          "height": 300
        },
        "id": "iUgHQzdpypIT",
        "outputId": "e27c9477-940b-4e9f-c7a2-361d83d4887d"
      },
      "execution_count": 18,
      "outputs": [
        {
          "output_type": "execute_result",
          "data": {
            "text/plain": [
              "       Restaurant ID  Country Code    Longitude     Latitude  \\\n",
              "count   9.542000e+03   9542.000000  9542.000000  9542.000000   \n",
              "mean    9.043301e+06     18.179208    64.274997    25.848532   \n",
              "std     8.791967e+06     56.451600    41.197602    11.010094   \n",
              "min     5.300000e+01      1.000000  -157.948486   -41.330428   \n",
              "25%     3.019312e+05      1.000000    77.081565    28.478658   \n",
              "50%     6.002726e+06      1.000000    77.192031    28.570444   \n",
              "75%     1.835260e+07      1.000000    77.282043    28.642711   \n",
              "max     1.850065e+07    216.000000   174.832089    55.976980   \n",
              "\n",
              "       Average Cost for two  Price range  Aggregate rating         Votes  \n",
              "count           9542.000000  9542.000000       9542.000000   9542.000000  \n",
              "mean            1200.326137     1.804968          2.665238    156.772060  \n",
              "std            16128.743876     0.905563          1.516588    430.203324  \n",
              "min                0.000000     1.000000          0.000000      0.000000  \n",
              "25%              250.000000     1.000000          2.500000      5.000000  \n",
              "50%              400.000000     2.000000          3.200000     31.000000  \n",
              "75%              700.000000     2.000000          3.700000    130.000000  \n",
              "max           800000.000000     4.000000          4.900000  10934.000000  "
            ],
            "text/html": [
              "\n",
              "  <div id=\"df-fccd9d18-a0b4-4349-a096-01228a9333fe\" class=\"colab-df-container\">\n",
              "    <div>\n",
              "<style scoped>\n",
              "    .dataframe tbody tr th:only-of-type {\n",
              "        vertical-align: middle;\n",
              "    }\n",
              "\n",
              "    .dataframe tbody tr th {\n",
              "        vertical-align: top;\n",
              "    }\n",
              "\n",
              "    .dataframe thead th {\n",
              "        text-align: right;\n",
              "    }\n",
              "</style>\n",
              "<table border=\"1\" class=\"dataframe\">\n",
              "  <thead>\n",
              "    <tr style=\"text-align: right;\">\n",
              "      <th></th>\n",
              "      <th>Restaurant ID</th>\n",
              "      <th>Country Code</th>\n",
              "      <th>Longitude</th>\n",
              "      <th>Latitude</th>\n",
              "      <th>Average Cost for two</th>\n",
              "      <th>Price range</th>\n",
              "      <th>Aggregate rating</th>\n",
              "      <th>Votes</th>\n",
              "    </tr>\n",
              "  </thead>\n",
              "  <tbody>\n",
              "    <tr>\n",
              "      <th>count</th>\n",
              "      <td>9.542000e+03</td>\n",
              "      <td>9542.000000</td>\n",
              "      <td>9542.000000</td>\n",
              "      <td>9542.000000</td>\n",
              "      <td>9542.000000</td>\n",
              "      <td>9542.000000</td>\n",
              "      <td>9542.000000</td>\n",
              "      <td>9542.000000</td>\n",
              "    </tr>\n",
              "    <tr>\n",
              "      <th>mean</th>\n",
              "      <td>9.043301e+06</td>\n",
              "      <td>18.179208</td>\n",
              "      <td>64.274997</td>\n",
              "      <td>25.848532</td>\n",
              "      <td>1200.326137</td>\n",
              "      <td>1.804968</td>\n",
              "      <td>2.665238</td>\n",
              "      <td>156.772060</td>\n",
              "    </tr>\n",
              "    <tr>\n",
              "      <th>std</th>\n",
              "      <td>8.791967e+06</td>\n",
              "      <td>56.451600</td>\n",
              "      <td>41.197602</td>\n",
              "      <td>11.010094</td>\n",
              "      <td>16128.743876</td>\n",
              "      <td>0.905563</td>\n",
              "      <td>1.516588</td>\n",
              "      <td>430.203324</td>\n",
              "    </tr>\n",
              "    <tr>\n",
              "      <th>min</th>\n",
              "      <td>5.300000e+01</td>\n",
              "      <td>1.000000</td>\n",
              "      <td>-157.948486</td>\n",
              "      <td>-41.330428</td>\n",
              "      <td>0.000000</td>\n",
              "      <td>1.000000</td>\n",
              "      <td>0.000000</td>\n",
              "      <td>0.000000</td>\n",
              "    </tr>\n",
              "    <tr>\n",
              "      <th>25%</th>\n",
              "      <td>3.019312e+05</td>\n",
              "      <td>1.000000</td>\n",
              "      <td>77.081565</td>\n",
              "      <td>28.478658</td>\n",
              "      <td>250.000000</td>\n",
              "      <td>1.000000</td>\n",
              "      <td>2.500000</td>\n",
              "      <td>5.000000</td>\n",
              "    </tr>\n",
              "    <tr>\n",
              "      <th>50%</th>\n",
              "      <td>6.002726e+06</td>\n",
              "      <td>1.000000</td>\n",
              "      <td>77.192031</td>\n",
              "      <td>28.570444</td>\n",
              "      <td>400.000000</td>\n",
              "      <td>2.000000</td>\n",
              "      <td>3.200000</td>\n",
              "      <td>31.000000</td>\n",
              "    </tr>\n",
              "    <tr>\n",
              "      <th>75%</th>\n",
              "      <td>1.835260e+07</td>\n",
              "      <td>1.000000</td>\n",
              "      <td>77.282043</td>\n",
              "      <td>28.642711</td>\n",
              "      <td>700.000000</td>\n",
              "      <td>2.000000</td>\n",
              "      <td>3.700000</td>\n",
              "      <td>130.000000</td>\n",
              "    </tr>\n",
              "    <tr>\n",
              "      <th>max</th>\n",
              "      <td>1.850065e+07</td>\n",
              "      <td>216.000000</td>\n",
              "      <td>174.832089</td>\n",
              "      <td>55.976980</td>\n",
              "      <td>800000.000000</td>\n",
              "      <td>4.000000</td>\n",
              "      <td>4.900000</td>\n",
              "      <td>10934.000000</td>\n",
              "    </tr>\n",
              "  </tbody>\n",
              "</table>\n",
              "</div>\n",
              "    <div class=\"colab-df-buttons\">\n",
              "\n",
              "  <div class=\"colab-df-container\">\n",
              "    <button class=\"colab-df-convert\" onclick=\"convertToInteractive('df-fccd9d18-a0b4-4349-a096-01228a9333fe')\"\n",
              "            title=\"Convert this dataframe to an interactive table.\"\n",
              "            style=\"display:none;\">\n",
              "\n",
              "  <svg xmlns=\"http://www.w3.org/2000/svg\" height=\"24px\" viewBox=\"0 -960 960 960\">\n",
              "    <path d=\"M120-120v-720h720v720H120Zm60-500h600v-160H180v160Zm220 220h160v-160H400v160Zm0 220h160v-160H400v160ZM180-400h160v-160H180v160Zm440 0h160v-160H620v160ZM180-180h160v-160H180v160Zm440 0h160v-160H620v160Z\"/>\n",
              "  </svg>\n",
              "    </button>\n",
              "\n",
              "  <style>\n",
              "    .colab-df-container {\n",
              "      display:flex;\n",
              "      gap: 12px;\n",
              "    }\n",
              "\n",
              "    .colab-df-convert {\n",
              "      background-color: #E8F0FE;\n",
              "      border: none;\n",
              "      border-radius: 50%;\n",
              "      cursor: pointer;\n",
              "      display: none;\n",
              "      fill: #1967D2;\n",
              "      height: 32px;\n",
              "      padding: 0 0 0 0;\n",
              "      width: 32px;\n",
              "    }\n",
              "\n",
              "    .colab-df-convert:hover {\n",
              "      background-color: #E2EBFA;\n",
              "      box-shadow: 0px 1px 2px rgba(60, 64, 67, 0.3), 0px 1px 3px 1px rgba(60, 64, 67, 0.15);\n",
              "      fill: #174EA6;\n",
              "    }\n",
              "\n",
              "    .colab-df-buttons div {\n",
              "      margin-bottom: 4px;\n",
              "    }\n",
              "\n",
              "    [theme=dark] .colab-df-convert {\n",
              "      background-color: #3B4455;\n",
              "      fill: #D2E3FC;\n",
              "    }\n",
              "\n",
              "    [theme=dark] .colab-df-convert:hover {\n",
              "      background-color: #434B5C;\n",
              "      box-shadow: 0px 1px 3px 1px rgba(0, 0, 0, 0.15);\n",
              "      filter: drop-shadow(0px 1px 2px rgba(0, 0, 0, 0.3));\n",
              "      fill: #FFFFFF;\n",
              "    }\n",
              "  </style>\n",
              "\n",
              "    <script>\n",
              "      const buttonEl =\n",
              "        document.querySelector('#df-fccd9d18-a0b4-4349-a096-01228a9333fe button.colab-df-convert');\n",
              "      buttonEl.style.display =\n",
              "        google.colab.kernel.accessAllowed ? 'block' : 'none';\n",
              "\n",
              "      async function convertToInteractive(key) {\n",
              "        const element = document.querySelector('#df-fccd9d18-a0b4-4349-a096-01228a9333fe');\n",
              "        const dataTable =\n",
              "          await google.colab.kernel.invokeFunction('convertToInteractive',\n",
              "                                                    [key], {});\n",
              "        if (!dataTable) return;\n",
              "\n",
              "        const docLinkHtml = 'Like what you see? Visit the ' +\n",
              "          '<a target=\"_blank\" href=https://colab.research.google.com/notebooks/data_table.ipynb>data table notebook</a>'\n",
              "          + ' to learn more about interactive tables.';\n",
              "        element.innerHTML = '';\n",
              "        dataTable['output_type'] = 'display_data';\n",
              "        await google.colab.output.renderOutput(dataTable, element);\n",
              "        const docLink = document.createElement('div');\n",
              "        docLink.innerHTML = docLinkHtml;\n",
              "        element.appendChild(docLink);\n",
              "      }\n",
              "    </script>\n",
              "  </div>\n",
              "\n",
              "\n",
              "<div id=\"df-5928ef30-74a4-4171-a58c-0439d611abe6\">\n",
              "  <button class=\"colab-df-quickchart\" onclick=\"quickchart('df-5928ef30-74a4-4171-a58c-0439d611abe6')\"\n",
              "            title=\"Suggest charts\"\n",
              "            style=\"display:none;\">\n",
              "\n",
              "<svg xmlns=\"http://www.w3.org/2000/svg\" height=\"24px\"viewBox=\"0 0 24 24\"\n",
              "     width=\"24px\">\n",
              "    <g>\n",
              "        <path d=\"M19 3H5c-1.1 0-2 .9-2 2v14c0 1.1.9 2 2 2h14c1.1 0 2-.9 2-2V5c0-1.1-.9-2-2-2zM9 17H7v-7h2v7zm4 0h-2V7h2v10zm4 0h-2v-4h2v4z\"/>\n",
              "    </g>\n",
              "</svg>\n",
              "  </button>\n",
              "\n",
              "<style>\n",
              "  .colab-df-quickchart {\n",
              "      --bg-color: #E8F0FE;\n",
              "      --fill-color: #1967D2;\n",
              "      --hover-bg-color: #E2EBFA;\n",
              "      --hover-fill-color: #174EA6;\n",
              "      --disabled-fill-color: #AAA;\n",
              "      --disabled-bg-color: #DDD;\n",
              "  }\n",
              "\n",
              "  [theme=dark] .colab-df-quickchart {\n",
              "      --bg-color: #3B4455;\n",
              "      --fill-color: #D2E3FC;\n",
              "      --hover-bg-color: #434B5C;\n",
              "      --hover-fill-color: #FFFFFF;\n",
              "      --disabled-bg-color: #3B4455;\n",
              "      --disabled-fill-color: #666;\n",
              "  }\n",
              "\n",
              "  .colab-df-quickchart {\n",
              "    background-color: var(--bg-color);\n",
              "    border: none;\n",
              "    border-radius: 50%;\n",
              "    cursor: pointer;\n",
              "    display: none;\n",
              "    fill: var(--fill-color);\n",
              "    height: 32px;\n",
              "    padding: 0;\n",
              "    width: 32px;\n",
              "  }\n",
              "\n",
              "  .colab-df-quickchart:hover {\n",
              "    background-color: var(--hover-bg-color);\n",
              "    box-shadow: 0 1px 2px rgba(60, 64, 67, 0.3), 0 1px 3px 1px rgba(60, 64, 67, 0.15);\n",
              "    fill: var(--button-hover-fill-color);\n",
              "  }\n",
              "\n",
              "  .colab-df-quickchart-complete:disabled,\n",
              "  .colab-df-quickchart-complete:disabled:hover {\n",
              "    background-color: var(--disabled-bg-color);\n",
              "    fill: var(--disabled-fill-color);\n",
              "    box-shadow: none;\n",
              "  }\n",
              "\n",
              "  .colab-df-spinner {\n",
              "    border: 2px solid var(--fill-color);\n",
              "    border-color: transparent;\n",
              "    border-bottom-color: var(--fill-color);\n",
              "    animation:\n",
              "      spin 1s steps(1) infinite;\n",
              "  }\n",
              "\n",
              "  @keyframes spin {\n",
              "    0% {\n",
              "      border-color: transparent;\n",
              "      border-bottom-color: var(--fill-color);\n",
              "      border-left-color: var(--fill-color);\n",
              "    }\n",
              "    20% {\n",
              "      border-color: transparent;\n",
              "      border-left-color: var(--fill-color);\n",
              "      border-top-color: var(--fill-color);\n",
              "    }\n",
              "    30% {\n",
              "      border-color: transparent;\n",
              "      border-left-color: var(--fill-color);\n",
              "      border-top-color: var(--fill-color);\n",
              "      border-right-color: var(--fill-color);\n",
              "    }\n",
              "    40% {\n",
              "      border-color: transparent;\n",
              "      border-right-color: var(--fill-color);\n",
              "      border-top-color: var(--fill-color);\n",
              "    }\n",
              "    60% {\n",
              "      border-color: transparent;\n",
              "      border-right-color: var(--fill-color);\n",
              "    }\n",
              "    80% {\n",
              "      border-color: transparent;\n",
              "      border-right-color: var(--fill-color);\n",
              "      border-bottom-color: var(--fill-color);\n",
              "    }\n",
              "    90% {\n",
              "      border-color: transparent;\n",
              "      border-bottom-color: var(--fill-color);\n",
              "    }\n",
              "  }\n",
              "</style>\n",
              "\n",
              "  <script>\n",
              "    async function quickchart(key) {\n",
              "      const quickchartButtonEl =\n",
              "        document.querySelector('#' + key + ' button');\n",
              "      quickchartButtonEl.disabled = true;  // To prevent multiple clicks.\n",
              "      quickchartButtonEl.classList.add('colab-df-spinner');\n",
              "      try {\n",
              "        const charts = await google.colab.kernel.invokeFunction(\n",
              "            'suggestCharts', [key], {});\n",
              "      } catch (error) {\n",
              "        console.error('Error during call to suggestCharts:', error);\n",
              "      }\n",
              "      quickchartButtonEl.classList.remove('colab-df-spinner');\n",
              "      quickchartButtonEl.classList.add('colab-df-quickchart-complete');\n",
              "    }\n",
              "    (() => {\n",
              "      let quickchartButtonEl =\n",
              "        document.querySelector('#df-5928ef30-74a4-4171-a58c-0439d611abe6 button');\n",
              "      quickchartButtonEl.style.display =\n",
              "        google.colab.kernel.accessAllowed ? 'block' : 'none';\n",
              "    })();\n",
              "  </script>\n",
              "</div>\n",
              "\n",
              "    </div>\n",
              "  </div>\n"
            ],
            "application/vnd.google.colaboratory.intrinsic+json": {
              "type": "dataframe",
              "summary": "{\n  \"name\": \"df\",\n  \"rows\": 8,\n  \"fields\": [\n    {\n      \"column\": \"Restaurant ID\",\n      \"properties\": {\n        \"dtype\": \"number\",\n        \"std\": 7645062.041771094,\n        \"min\": 53.0,\n        \"max\": 18500652.0,\n        \"num_unique_values\": 8,\n        \"samples\": [\n          9043300.51917837,\n          6002725.5,\n          9542.0\n        ],\n        \"semantic_type\": \"\",\n        \"description\": \"\"\n      }\n    },\n    {\n      \"column\": \"Country Code\",\n      \"properties\": {\n        \"dtype\": \"number\",\n        \"std\": 3359.528624709943,\n        \"min\": 1.0,\n        \"max\": 9542.0,\n        \"num_unique_values\": 5,\n        \"samples\": [\n          18.179207713267658,\n          216.0,\n          56.45159962091277\n        ],\n        \"semantic_type\": \"\",\n        \"description\": \"\"\n      }\n    },\n    {\n      \"column\": \"Longitude\",\n      \"properties\": {\n        \"dtype\": \"number\",\n        \"std\": 3357.0362204132934,\n        \"min\": -157.948486,\n        \"max\": 9542.0,\n        \"num_unique_values\": 8,\n        \"samples\": [\n          64.27499746924892,\n          77.19203060000001,\n          9542.0\n        ],\n        \"semantic_type\": \"\",\n        \"description\": \"\"\n      }\n    },\n    {\n      \"column\": \"Latitude\",\n      \"properties\": {\n        \"dtype\": \"number\",\n        \"std\": 3366.791306429121,\n        \"min\": -41.330428,\n        \"max\": 9542.0,\n        \"num_unique_values\": 8,\n        \"samples\": [\n          25.84853159488723,\n          28.570443775,\n          9542.0\n        ],\n        \"semantic_type\": \"\",\n        \"description\": \"\"\n      }\n    },\n    {\n      \"column\": \"Average Cost for two\",\n      \"properties\": {\n        \"dtype\": \"number\",\n        \"std\": 281478.1320671875,\n        \"min\": 0.0,\n        \"max\": 800000.0,\n        \"num_unique_values\": 8,\n        \"samples\": [\n          1200.3261370781806,\n          400.0,\n          9542.0\n        ],\n        \"semantic_type\": \"\",\n        \"description\": \"\"\n      }\n    },\n    {\n      \"column\": \"Price range\",\n      \"properties\": {\n        \"dtype\": \"number\",\n        \"std\": 3372.964622501365,\n        \"min\": 0.9055630824943393,\n        \"max\": 9542.0,\n        \"num_unique_values\": 6,\n        \"samples\": [\n          9542.0,\n          1.8049675120519808,\n          4.0\n        ],\n        \"semantic_type\": \"\",\n        \"description\": \"\"\n      }\n    },\n    {\n      \"column\": \"Aggregate rating\",\n      \"properties\": {\n        \"dtype\": \"number\",\n        \"std\": 3372.6732932665936,\n        \"min\": 0.0,\n        \"max\": 9542.0,\n        \"num_unique_values\": 8,\n        \"samples\": [\n          2.665237895619367,\n          3.2,\n          9542.0\n        ],\n        \"semantic_type\": \"\",\n        \"description\": \"\"\n      }\n    },\n    {\n      \"column\": \"Votes\",\n      \"properties\": {\n        \"dtype\": \"number\",\n        \"std\": 4697.962839618186,\n        \"min\": 0.0,\n        \"max\": 10934.0,\n        \"num_unique_values\": 8,\n        \"samples\": [\n          156.7720603647034,\n          31.0,\n          9542.0\n        ],\n        \"semantic_type\": \"\",\n        \"description\": \"\"\n      }\n    }\n  ]\n}"
            }
          },
          "metadata": {},
          "execution_count": 18
        }
      ]
    },
    {
      "cell_type": "markdown",
      "source": [
        "###Task 1: Top Cuisines\n",
        "\n",
        "• Determine the top three most common cuisines in the dataset.\n"
      ],
      "metadata": {
        "id": "V9jiTI8dyp9H"
      }
    },
    {
      "cell_type": "code",
      "source": [
        "df['Cuisines'].value_counts().head(3)"
      ],
      "metadata": {
        "colab": {
          "base_uri": "https://localhost:8080/",
          "height": 210
        },
        "id": "gP7txpil4CFJ",
        "outputId": "32b32465-92c9-4b5b-f5b8-1514c7a64ac2"
      },
      "execution_count": 19,
      "outputs": [
        {
          "output_type": "execute_result",
          "data": {
            "text/plain": [
              "Cuisines\n",
              "North Indian             936\n",
              "North Indian, Chinese    511\n",
              "Chinese                  354\n",
              "Name: count, dtype: int64"
            ],
            "text/html": [
              "<div>\n",
              "<style scoped>\n",
              "    .dataframe tbody tr th:only-of-type {\n",
              "        vertical-align: middle;\n",
              "    }\n",
              "\n",
              "    .dataframe tbody tr th {\n",
              "        vertical-align: top;\n",
              "    }\n",
              "\n",
              "    .dataframe thead th {\n",
              "        text-align: right;\n",
              "    }\n",
              "</style>\n",
              "<table border=\"1\" class=\"dataframe\">\n",
              "  <thead>\n",
              "    <tr style=\"text-align: right;\">\n",
              "      <th></th>\n",
              "      <th>count</th>\n",
              "    </tr>\n",
              "    <tr>\n",
              "      <th>Cuisines</th>\n",
              "      <th></th>\n",
              "    </tr>\n",
              "  </thead>\n",
              "  <tbody>\n",
              "    <tr>\n",
              "      <th>North Indian</th>\n",
              "      <td>936</td>\n",
              "    </tr>\n",
              "    <tr>\n",
              "      <th>North Indian, Chinese</th>\n",
              "      <td>511</td>\n",
              "    </tr>\n",
              "    <tr>\n",
              "      <th>Chinese</th>\n",
              "      <td>354</td>\n",
              "    </tr>\n",
              "  </tbody>\n",
              "</table>\n",
              "</div><br><label><b>dtype:</b> int64</label>"
            ]
          },
          "metadata": {},
          "execution_count": 19
        }
      ]
    },
    {
      "cell_type": "markdown",
      "source": [
        "####• Calculate the percentage of restaurants serving each of the top cuisines."
      ],
      "metadata": {
        "id": "GQaok66LBtVi"
      }
    },
    {
      "cell_type": "code",
      "source": [
        "# Split cuisines into individual entries and count occurrences\n",
        "cuisine_counts = df['Cuisines'].str.split(', ').explode().value_counts()\n",
        "\n",
        "#  Calculate the percentage for each cuisine\n",
        "total_restaurants = len(df)\n",
        "cuisine_percentages = (cuisine_counts / total_restaurants) * 100\n",
        "\n",
        "\n",
        "print(\"Percentage of Restaurants Serving Each Cuisine:\")\n",
        "print(cuisine_percentages)\n"
      ],
      "metadata": {
        "colab": {
          "base_uri": "https://localhost:8080/"
        },
        "id": "Wz9oaeQlQf6V",
        "outputId": "0be0d376-7116-44aa-99c2-15b991831bdf"
      },
      "execution_count": 32,
      "outputs": [
        {
          "output_type": "stream",
          "name": "stdout",
          "text": [
            "Percentage of Restaurants Serving Each Cuisine:\n",
            "Cuisines\n",
            "North Indian      41.500734\n",
            "Chinese           28.662754\n",
            "Fast Food         20.813247\n",
            "Mughlai           10.427583\n",
            "Italian            8.006707\n",
            "                    ...    \n",
            "Fish and Chips     0.010480\n",
            "Malwani            0.010480\n",
            "Cuisine Varies     0.010480\n",
            "Soul Food          0.010480\n",
            "B�_rek             0.010480\n",
            "Name: count, Length: 145, dtype: float64\n"
          ]
        }
      ]
    },
    {
      "cell_type": "markdown",
      "source": [
        "###Task 2: City Analysis\n",
        "• Identify the city with the highest number of restaurants in the dataset.\n",
        "\n"
      ],
      "metadata": {
        "id": "36MjqHJsHcpJ"
      }
    },
    {
      "cell_type": "code",
      "source": [
        "# Count the number of restaurants in each city\n",
        "city_counts = df['City'].value_counts()\n",
        "\n",
        "# Identify the city with the highest count\n",
        "top_city = city_counts.idxmax()\n",
        "top_city_count = city_counts.max()\n",
        "\n",
        "print(f\"The city with the highest number of restaurants is {top_city} with {top_city_count} restaurants.\")\n"
      ],
      "metadata": {
        "colab": {
          "base_uri": "https://localhost:8080/"
        },
        "id": "1c6Thls3IvIp",
        "outputId": "2cb00ae6-b0f7-408b-cbb5-767f5a7c6593"
      },
      "execution_count": 21,
      "outputs": [
        {
          "output_type": "stream",
          "name": "stdout",
          "text": [
            "The city with the highest number of restaurants is New Delhi with 5473 restaurants.\n"
          ]
        }
      ]
    },
    {
      "cell_type": "code",
      "source": [
        "# Group by 'City' and count the number of restaurants in each city\n",
        "city_counts = df.groupby('City').size().sort_values(ascending=False)\n",
        "\n",
        "# Get the top 5 cities\n",
        "top_5_cities = city_counts.head(5)\n",
        "\n",
        "print(\"Top 5 cities with the highest number of restaurants:\")\n",
        "print(top_5_cities)\n"
      ],
      "metadata": {
        "colab": {
          "base_uri": "https://localhost:8080/"
        },
        "id": "fzJIzTlrJ-Oy",
        "outputId": "d2063613-ba4b-4ac8-f81b-0a30bf108b3b"
      },
      "execution_count": 22,
      "outputs": [
        {
          "output_type": "stream",
          "name": "stdout",
          "text": [
            "Top 5 cities with the highest number of restaurants:\n",
            "City\n",
            "New Delhi    5473\n",
            "Gurgaon      1118\n",
            "Noida        1080\n",
            "Faridabad     251\n",
            "Ghaziabad      25\n",
            "dtype: int64\n"
          ]
        }
      ]
    },
    {
      "cell_type": "markdown",
      "source": [
        "\n",
        "• Calculate the average rating for restaurants in each city.\n",
        "\n"
      ],
      "metadata": {
        "id": "3pKeOj-RHdnd"
      }
    },
    {
      "cell_type": "code",
      "source": [
        "# Step 1: Calculate the average rating for each city\n",
        "average_rating_per_city = df.groupby('City')['Aggregate rating'].mean().sort_values(ascending=False)\n",
        "\n",
        "# Step 2: Display the results\n",
        "print(\"Average Ratings for Restaurants in Each City:\")\n",
        "print(average_rating_per_city)\n",
        "\n"
      ],
      "metadata": {
        "colab": {
          "base_uri": "https://localhost:8080/"
        },
        "id": "YIGCMctBK9oD",
        "outputId": "ab5feb65-bc51-44b4-b520-1eaba0b5632b"
      },
      "execution_count": 23,
      "outputs": [
        {
          "output_type": "stream",
          "name": "stdout",
          "text": [
            "Average Ratings for Restaurants in Each City:\n",
            "City\n",
            "Inner City          4.900000\n",
            "Quezon City         4.800000\n",
            "Makati City         4.650000\n",
            "Pasig City          4.633333\n",
            "Mandaluyong City    4.625000\n",
            "                      ...   \n",
            "New Delhi           2.438845\n",
            "Montville           2.400000\n",
            "Mc Millan           2.400000\n",
            "Noida               2.036204\n",
            "Faridabad           1.866932\n",
            "Name: Aggregate rating, Length: 140, dtype: float64\n"
          ]
        }
      ]
    },
    {
      "cell_type": "markdown",
      "source": [
        "\n",
        "• Determine the city with the highest average rating."
      ],
      "metadata": {
        "id": "-ngb-zp-HeeZ"
      }
    },
    {
      "cell_type": "code",
      "source": [
        "average_rating= df.groupby('City')[\"Aggregate rating\"].mean()\n",
        "\n",
        "highest_rating=average_rating.head(5)\n",
        "print(highest_rating)"
      ],
      "metadata": {
        "colab": {
          "base_uri": "https://localhost:8080/"
        },
        "id": "JGQkkOUGNZmF",
        "outputId": "114e9615-9f24-4c29-da4d-bafd5f0b4263"
      },
      "execution_count": 24,
      "outputs": [
        {
          "output_type": "stream",
          "name": "stdout",
          "text": [
            "City\n",
            "Abu Dhabi    4.300000\n",
            "Agra         3.965000\n",
            "Ahmedabad    4.161905\n",
            "Albany       3.552941\n",
            "Allahabad    3.395000\n",
            "Name: Aggregate rating, dtype: float64\n"
          ]
        }
      ]
    },
    {
      "cell_type": "markdown",
      "source": [
        "###Task 3: Price Range Distribution\n",
        "• Visualize the distribution of restaurant price ranges using a histogram or bar chart.\n",
        "\n"
      ],
      "metadata": {
        "id": "P05j7ETDPR5W"
      }
    },
    {
      "cell_type": "code",
      "source": [
        "df.info()"
      ],
      "metadata": {
        "colab": {
          "base_uri": "https://localhost:8080/"
        },
        "id": "ok6MLxy3PqP_",
        "outputId": "46f006b9-caa1-45d1-ad16-558190f4ad9d"
      },
      "execution_count": 25,
      "outputs": [
        {
          "output_type": "stream",
          "name": "stdout",
          "text": [
            "<class 'pandas.core.frame.DataFrame'>\n",
            "Index: 9542 entries, 0 to 9550\n",
            "Data columns (total 21 columns):\n",
            " #   Column                Non-Null Count  Dtype  \n",
            "---  ------                --------------  -----  \n",
            " 0   Restaurant ID         9542 non-null   int64  \n",
            " 1   Restaurant Name       9542 non-null   object \n",
            " 2   Country Code          9542 non-null   int64  \n",
            " 3   City                  9542 non-null   object \n",
            " 4   Address               9542 non-null   object \n",
            " 5   Locality              9542 non-null   object \n",
            " 6   Locality Verbose      9542 non-null   object \n",
            " 7   Longitude             9542 non-null   float64\n",
            " 8   Latitude              9542 non-null   float64\n",
            " 9   Cuisines              9542 non-null   object \n",
            " 10  Average Cost for two  9542 non-null   int64  \n",
            " 11  Currency              9542 non-null   object \n",
            " 12  Has Table booking     9542 non-null   object \n",
            " 13  Has Online delivery   9542 non-null   object \n",
            " 14  Is delivering now     9542 non-null   object \n",
            " 15  Switch to order menu  9542 non-null   object \n",
            " 16  Price range           9542 non-null   int64  \n",
            " 17  Aggregate rating      9542 non-null   float64\n",
            " 18  Rating color          9542 non-null   object \n",
            " 19  Rating text           9542 non-null   object \n",
            " 20  Votes                 9542 non-null   int64  \n",
            "dtypes: float64(3), int64(5), object(13)\n",
            "memory usage: 1.6+ MB\n"
          ]
        }
      ]
    },
    {
      "cell_type": "code",
      "source": [
        "Pricing_Range =df['Price range'].value_counts()\n",
        "print(Pricing_Range)\n",
        "\n",
        "plt.figure(figsize=(12,6))\n",
        "Pricing_Range.plot(kind='bar',color='cyan',edgecolor='black')\n",
        "plt.title(\"Distribution of Restaurant Price Ranges\")\n",
        "plt.xlabel(\"price Range\")\n",
        "plt.ylabel(\"Number of  Restaurant\")\n",
        "plt.xticks(rotation=0)\n",
        "plt.show()"
      ],
      "metadata": {
        "colab": {
          "base_uri": "https://localhost:8080/",
          "height": 668
        },
        "id": "fCJt62WOvmAi",
        "outputId": "2bf2a62a-c5c7-4f11-a299-03ff50307cb0"
      },
      "execution_count": 33,
      "outputs": [
        {
          "output_type": "stream",
          "name": "stdout",
          "text": [
            "Price range\n",
            "1    4438\n",
            "2    3113\n",
            "3    1405\n",
            "4     586\n",
            "Name: count, dtype: int64\n"
          ]
        },
        {
          "output_type": "display_data",
          "data": {
            "text/plain": [
              "<Figure size 1200x600 with 1 Axes>"
            ],
            "image/png": "[encoded data removed]"
          },
          "metadata": {}
        }
      ]
    },
    {
      "cell_type": "markdown",
      "source": [
        "• Calculate the percentage of restaurants in each price range category."
      ],
      "metadata": {
        "id": "boES5NUbPbBc"
      }
    },
    {
      "cell_type": "code",
      "source": [
        "# Calculate the percentage of each price range category\n",
        "price_range_percentage = (Pricing_Range / Pricing_Range.sum()) * 100\n",
        "print(price_range_percentage)\n",
        "\n",
        "# Plotting the percentage distribution of price ranges\n",
        "plt.figure(figsize=(8, 5))\n",
        "price_range_percentage.plot(kind='bar', color='skyblue', edgecolor='black')\n",
        "plt.title('Percentage Distribution of Restaurant Price Ranges')\n",
        "plt.xlabel('Price Range')\n",
        "plt.ylabel('Percentage of Restaurants')\n",
        "plt.xticks(rotation=0)\n",
        "plt.show()\n"
      ],
      "metadata": {
        "colab": {
          "base_uri": "https://localhost:8080/",
          "height": 591
        },
        "id": "rAh-h1qG1jLc",
        "outputId": "42741574-67b8-4edc-8ba6-59ca297385aa"
      },
      "execution_count": 34,
      "outputs": [
        {
          "output_type": "stream",
          "name": "stdout",
          "text": [
            "Price range\n",
            "1    46.510166\n",
            "2    32.624188\n",
            "3    14.724376\n",
            "4     6.141270\n",
            "Name: count, dtype: float64\n"
          ]
        },
        {
          "output_type": "display_data",
          "data": {
            "text/plain": [
              "<Figure size 800x500 with 1 Axes>"
            ],
            "image/png": "[encoded data removed]"
          },
          "metadata": {}
        }
      ]
    },
    {
      "cell_type": "markdown",
      "source": [
        "###Task 4: Online Delivery\n",
        "####• Calculate the percentage of restaurants that offer online delivery.\n",
        "\n"
      ],
      "metadata": {
        "id": "YvDxU1BHZilB"
      }
    },
    {
      "cell_type": "code",
      "source": [
        "df.info()"
      ],
      "metadata": {
        "colab": {
          "base_uri": "https://localhost:8080/"
        },
        "id": "MiVRGQz5aHxA",
        "outputId": "25cfd589-53ad-4de8-f6fd-61267b3def65"
      },
      "execution_count": 28,
      "outputs": [
        {
          "output_type": "stream",
          "name": "stdout",
          "text": [
            "<class 'pandas.core.frame.DataFrame'>\n",
            "Index: 9542 entries, 0 to 9550\n",
            "Data columns (total 21 columns):\n",
            " #   Column                Non-Null Count  Dtype  \n",
            "---  ------                --------------  -----  \n",
            " 0   Restaurant ID         9542 non-null   int64  \n",
            " 1   Restaurant Name       9542 non-null   object \n",
            " 2   Country Code          9542 non-null   int64  \n",
            " 3   City                  9542 non-null   object \n",
            " 4   Address               9542 non-null   object \n",
            " 5   Locality              9542 non-null   object \n",
            " 6   Locality Verbose      9542 non-null   object \n",
            " 7   Longitude             9542 non-null   float64\n",
            " 8   Latitude              9542 non-null   float64\n",
            " 9   Cuisines              9542 non-null   object \n",
            " 10  Average Cost for two  9542 non-null   int64  \n",
            " 11  Currency              9542 non-null   object \n",
            " 12  Has Table booking     9542 non-null   object \n",
            " 13  Has Online delivery   9542 non-null   object \n",
            " 14  Is delivering now     9542 non-null   object \n",
            " 15  Switch to order menu  9542 non-null   object \n",
            " 16  Price range           9542 non-null   int64  \n",
            " 17  Aggregate rating      9542 non-null   float64\n",
            " 18  Rating color          9542 non-null   object \n",
            " 19  Rating text           9542 non-null   object \n",
            " 20  Votes                 9542 non-null   int64  \n",
            "dtypes: float64(3), int64(5), object(13)\n",
            "memory usage: 1.6+ MB\n"
          ]
        }
      ]
    },
    {
      "cell_type": "code",
      "source": [
        "online_delivery=df[\"Has Online delivery\"].value_counts()\n",
        "count_resturant = df[\"Restaurant ID\"].count()\n",
        "online_delivery_percentage=(online_delivery['Yes']/count_resturant)* 100\n",
        "print('Percentage of online delivery available by resturant',online_delivery_percentage)\n",
        "print(\"-----------------------\")\n",
        "\n",
        "plt.figure(figsize=(8,4))\n",
        "plt.pie(online_delivery,labels=online_delivery.index,autopct='%1.1f%%',colors=['lightblue','lightgreen'],startangle=90)\n",
        "plt.show()"
      ],
      "metadata": {
        "colab": {
          "base_uri": "https://localhost:8080/",
          "height": 380
        },
        "id": "wSiz7XLdYpc8",
        "outputId": "326d9332-9f4e-491e-950d-678f6b6d8fbd"
      },
      "execution_count": 29,
      "outputs": [
        {
          "output_type": "stream",
          "name": "stdout",
          "text": [
            "Percentage of online delivery available by resturant 25.686438901697755\n",
            "-----------------------\n"
          ]
        },
        {
          "output_type": "display_data",
          "data": {
            "text/plain": [
              "<Figure size 800x400 with 1 Axes>"
            ],
            "image/png": "[encoded data removed]"
          },
          "metadata": {}
        }
      ]
    },
    {
      "cell_type": "markdown",
      "source": [
        "####• Compare the average ratings between restaurants with and without online delivery."
      ],
      "metadata": {
        "id": "rzHA5rLEZrMS"
      }
    },
    {
      "cell_type": "code",
      "source": [
        "# Calculate average ratings for restaurants with and without online delivery\n",
        "average_ratings_delivery = df.groupby(\"Has Online delivery\")[\"Aggregate rating\"].mean()\n",
        "\n",
        "# Display the results\n",
        "print(\"Average Ratings for Restaurants with and without Online Delivery:\")\n",
        "print(average_ratings_delivery)\n",
        "\n",
        "\n",
        "plt.figure(figsize=(10,4))\n",
        "plt.pie(average_ratings_delivery,labels=average_ratings_delivery.index,autopct='%1.1f%%',startangle=90,colors=['lightgreen','lightblue'])\n",
        "plt.show()"
      ],
      "metadata": {
        "colab": {
          "base_uri": "https://localhost:8080/",
          "height": 432
        },
        "id": "xDm5cMxCj1f_",
        "outputId": "c8d22cd7-ca65-4208-ef24-aa3eda0be537"
      },
      "execution_count": 30,
      "outputs": [
        {
          "output_type": "stream",
          "name": "stdout",
          "text": [
            "Average Ratings for Restaurants with and without Online Delivery:\n",
            "Has Online delivery\n",
            "No     2.463517\n",
            "Yes    3.248837\n",
            "Name: Aggregate rating, dtype: float64\n"
          ]
        },
        {
          "output_type": "display_data",
          "data": {
            "text/plain": [
              "<Figure size 1000x400 with 1 Axes>"
            ],
            "image/png": "[encoded data removed]"
          },
          "metadata": {}
        }
      ]
    },
    {
      "cell_type": "code",
      "source": [
        "\n",
        "without_online= df[df['Has Online delivery']=='No']\n",
        "average_resturant_rating= without_online.groupby(['Restaurant ID','Restaurant Name'])['Aggregate rating'].mean()\n",
        "print(average_resturant_rating)\n"
      ],
      "metadata": {
        "colab": {
          "base_uri": "https://localhost:8080/"
        },
        "id": "2LyyUKrrZr9l",
        "outputId": "458f9964-e4f5-4b29-f97e-0bfa8a4c0aa7"
      },
      "execution_count": 31,
      "outputs": [
        {
          "output_type": "stream",
          "name": "stdout",
          "text": [
            "Restaurant ID  Restaurant Name           \n",
            "60             Colonel's Kababz              3.2\n",
            "67             Fa Yian                       4.0\n",
            "93             Princess Garden               2.7\n",
            "104            Woks - The Lalit New Delhi    3.6\n",
            "143            Domino's Pizza                3.7\n",
            "                                            ... \n",
            "18499493       Zombiez                       0.0\n",
            "18500618       Veg. Darbar                   0.0\n",
            "18500628       Grill & Cafe                  0.0\n",
            "18500639       Chandni Chowk 2 China         0.0\n",
            "18500652       Mahek By Greenz               0.0\n",
            "Name: Aggregate rating, Length: 7091, dtype: float64\n"
          ]
        }
      ]
    },
    {
      "cell_type": "markdown",
      "source": [
        "###Level 1 Results Summary\n",
        "**Top Cuisines:**\n",
        "\n",
        "* The top three cuisines are **North Indian (41.5%)**, **Chinese (28.66%)**, and **Fast Food (20.81%)**.\n",
        "Other popular cuisines include Mughlai (10.43%) and Italian (8.01%).\n",
        "City Analysis:\n",
        "\n",
        "* Top Cities by Restaurant Count: **New Delhi leads with 5,473 restaurant**s, followed by Gurgaon (1,118) and Noida (1,080).\n",
        "Cities with the Highest Average Ratings: Inner City (4.9), Quezon City (4.8), and Makati City (4.65).\n",
        "Cities with the Lowest Average Ratings: Noida (2.04) and Faridabad (1.87).\n",
        "Price Range Distribution:\n",
        "\n",
        "* Most restaurants fall into **Price Range 1 (46.51%)** and **Price Range 2 (32.62%)**, while Price Range 4 is the least represented (6.14%).\n",
        "This highlights a dominance of affordable options in the dataset.\n",
        "Online Delivery Analysis:\n",
        "\n",
        "* Only **25.69% of restaurants offer online delivery services**.\n",
        "Restaurants offering online delivery have a higher average rating (3.25) compared to those that don’t (2.46), indicating a potential customer preference for this service."
      ],
      "metadata": {
        "id": "de9tFf4ZSE7r"
      }
    },
    {
      "cell_type": "code",
      "source": [],
      "metadata": {
        "id": "kv161Oy6SvbJ"
      },
      "execution_count": null,
      "outputs": []
    }
  ]
}